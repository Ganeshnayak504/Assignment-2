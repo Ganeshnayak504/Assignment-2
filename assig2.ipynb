{
 "cells": [
  {
   "cell_type": "code",
   "execution_count": 1,
   "id": "94bc156d-5c8a-40d4-8649-625234318abd",
   "metadata": {},
   "outputs": [],
   "source": [
    "import pandas as pd\n"
   ]
  },
  {
   "cell_type": "code",
   "execution_count": 3,
   "id": "9bc7669b-c5f4-40fa-b095-e331c06df03d",
   "metadata": {},
   "outputs": [
    {
     "data": {
      "text/html": [
       "<div>\n",
       "<style scoped>\n",
       "    .dataframe tbody tr th:only-of-type {\n",
       "        vertical-align: middle;\n",
       "    }\n",
       "\n",
       "    .dataframe tbody tr th {\n",
       "        vertical-align: top;\n",
       "    }\n",
       "\n",
       "    .dataframe thead th {\n",
       "        text-align: right;\n",
       "    }\n",
       "</style>\n",
       "<table border=\"1\" class=\"dataframe\">\n",
       "  <thead>\n",
       "    <tr style=\"text-align: right;\">\n",
       "      <th></th>\n",
       "      <th>Column1</th>\n",
       "      <th>Order ID</th>\n",
       "      <th>Product Category</th>\n",
       "      <th>Product</th>\n",
       "      <th>Quantity Ordered</th>\n",
       "      <th>Price Each</th>\n",
       "      <th>Order Date</th>\n",
       "      <th>Purchase Address</th>\n",
       "      <th>Month</th>\n",
       "      <th>Sales</th>\n",
       "      <th>City</th>\n",
       "      <th>Hour</th>\n",
       "      <th>Time of Day</th>\n",
       "    </tr>\n",
       "  </thead>\n",
       "  <tbody>\n",
       "    <tr>\n",
       "      <th>0</th>\n",
       "      <td>0</td>\n",
       "      <td>295665</td>\n",
       "      <td>Laptops and Computers</td>\n",
       "      <td>Macbook Pro Laptop</td>\n",
       "      <td>1</td>\n",
       "      <td>1700.00</td>\n",
       "      <td>30-12-2019 00:01</td>\n",
       "      <td>136 Church St, New York City, NY 10001</td>\n",
       "      <td>12</td>\n",
       "      <td>1700.00</td>\n",
       "      <td>New York City</td>\n",
       "      <td>0</td>\n",
       "      <td>Night</td>\n",
       "    </tr>\n",
       "    <tr>\n",
       "      <th>1</th>\n",
       "      <td>1</td>\n",
       "      <td>295666</td>\n",
       "      <td>Home Appliances</td>\n",
       "      <td>LG Washing Machine</td>\n",
       "      <td>1</td>\n",
       "      <td>600.00</td>\n",
       "      <td>29-12-2019 07:03</td>\n",
       "      <td>562 2nd St, New York City, NY 10001</td>\n",
       "      <td>12</td>\n",
       "      <td>600.00</td>\n",
       "      <td>New York City</td>\n",
       "      <td>7</td>\n",
       "      <td>Morning</td>\n",
       "    </tr>\n",
       "    <tr>\n",
       "      <th>2</th>\n",
       "      <td>2</td>\n",
       "      <td>295667</td>\n",
       "      <td>Charging Cables</td>\n",
       "      <td>USB-C Charging Cable</td>\n",
       "      <td>1</td>\n",
       "      <td>11.95</td>\n",
       "      <td>12-12-2019 18:21</td>\n",
       "      <td>277 Main St, New York City, NY 10001</td>\n",
       "      <td>12</td>\n",
       "      <td>11.95</td>\n",
       "      <td>New York City</td>\n",
       "      <td>18</td>\n",
       "      <td>Evening</td>\n",
       "    </tr>\n",
       "    <tr>\n",
       "      <th>3</th>\n",
       "      <td>3</td>\n",
       "      <td>295668</td>\n",
       "      <td>Monitors</td>\n",
       "      <td>27in FHD Monitor</td>\n",
       "      <td>1</td>\n",
       "      <td>149.99</td>\n",
       "      <td>22-12-2019 15:13</td>\n",
       "      <td>410 6th St, San Francisco, CA 94016</td>\n",
       "      <td>12</td>\n",
       "      <td>149.99</td>\n",
       "      <td>San Francisco</td>\n",
       "      <td>15</td>\n",
       "      <td>Afternoon</td>\n",
       "    </tr>\n",
       "    <tr>\n",
       "      <th>4</th>\n",
       "      <td>4</td>\n",
       "      <td>295669</td>\n",
       "      <td>Charging Cables</td>\n",
       "      <td>USB-C Charging Cable</td>\n",
       "      <td>1</td>\n",
       "      <td>11.95</td>\n",
       "      <td>18-12-2019 12:38</td>\n",
       "      <td>43 Hill St, Atlanta, GA 30301</td>\n",
       "      <td>12</td>\n",
       "      <td>11.95</td>\n",
       "      <td>Atlanta</td>\n",
       "      <td>12</td>\n",
       "      <td>Afternoon</td>\n",
       "    </tr>\n",
       "  </tbody>\n",
       "</table>\n",
       "</div>"
      ],
      "text/plain": [
       "   Column1  Order ID       Product Category               Product  \\\n",
       "0        0    295665  Laptops and Computers    Macbook Pro Laptop   \n",
       "1        1    295666        Home Appliances    LG Washing Machine   \n",
       "2        2    295667        Charging Cables  USB-C Charging Cable   \n",
       "3        3    295668               Monitors      27in FHD Monitor   \n",
       "4        4    295669        Charging Cables  USB-C Charging Cable   \n",
       "\n",
       "   Quantity Ordered  Price Each        Order Date  \\\n",
       "0                 1     1700.00  30-12-2019 00:01   \n",
       "1                 1      600.00  29-12-2019 07:03   \n",
       "2                 1       11.95  12-12-2019 18:21   \n",
       "3                 1      149.99  22-12-2019 15:13   \n",
       "4                 1       11.95  18-12-2019 12:38   \n",
       "\n",
       "                         Purchase Address  Month    Sales            City  \\\n",
       "0  136 Church St, New York City, NY 10001     12  1700.00   New York City   \n",
       "1     562 2nd St, New York City, NY 10001     12   600.00   New York City   \n",
       "2    277 Main St, New York City, NY 10001     12    11.95   New York City   \n",
       "3     410 6th St, San Francisco, CA 94016     12   149.99   San Francisco   \n",
       "4           43 Hill St, Atlanta, GA 30301     12    11.95         Atlanta   \n",
       "\n",
       "   Hour Time of Day  \n",
       "0     0       Night  \n",
       "1     7     Morning  \n",
       "2    18     Evening  \n",
       "3    15   Afternoon  \n",
       "4    12   Afternoon  "
      ]
     },
     "execution_count": 3,
     "metadata": {},
     "output_type": "execute_result"
    }
   ],
   "source": [
    "a=pd.read_csv(\"Sales Data Analysis.csv\")\n",
    "a.head()"
   ]
  },
  {
   "cell_type": "code",
   "execution_count": 4,
   "id": "3835fc59-bda6-40f4-9082-c791290423cb",
   "metadata": {},
   "outputs": [
    {
     "data": {
      "text/html": [
       "<div>\n",
       "<style scoped>\n",
       "    .dataframe tbody tr th:only-of-type {\n",
       "        vertical-align: middle;\n",
       "    }\n",
       "\n",
       "    .dataframe tbody tr th {\n",
       "        vertical-align: top;\n",
       "    }\n",
       "\n",
       "    .dataframe thead th {\n",
       "        text-align: right;\n",
       "    }\n",
       "</style>\n",
       "<table border=\"1\" class=\"dataframe\">\n",
       "  <thead>\n",
       "    <tr style=\"text-align: right;\">\n",
       "      <th></th>\n",
       "      <th>Column1</th>\n",
       "      <th>Order ID</th>\n",
       "      <th>Product Category</th>\n",
       "      <th>Product</th>\n",
       "      <th>Quantity Ordered</th>\n",
       "      <th>Price Each</th>\n",
       "      <th>Order Date</th>\n",
       "      <th>Purchase Address</th>\n",
       "      <th>Month</th>\n",
       "      <th>Sales</th>\n",
       "      <th>City</th>\n",
       "      <th>Hour</th>\n",
       "      <th>Time of Day</th>\n",
       "    </tr>\n",
       "  </thead>\n",
       "  <tbody>\n",
       "    <tr>\n",
       "      <th>185945</th>\n",
       "      <td>13617</td>\n",
       "      <td>222905</td>\n",
       "      <td>Batterie</td>\n",
       "      <td>AAA Batteries (4-pack)</td>\n",
       "      <td>1</td>\n",
       "      <td>2.99</td>\n",
       "      <td>07-06-2019 19:02</td>\n",
       "      <td>795 Pine St, Boston, MA 02215</td>\n",
       "      <td>6</td>\n",
       "      <td>2.99</td>\n",
       "      <td>Boston</td>\n",
       "      <td>19</td>\n",
       "      <td>Evening</td>\n",
       "    </tr>\n",
       "    <tr>\n",
       "      <th>185946</th>\n",
       "      <td>13618</td>\n",
       "      <td>222906</td>\n",
       "      <td>Monitors</td>\n",
       "      <td>27in FHD Monitor</td>\n",
       "      <td>1</td>\n",
       "      <td>149.99</td>\n",
       "      <td>01-06-2019 19:29</td>\n",
       "      <td>495 North St, New York City, NY 10001</td>\n",
       "      <td>6</td>\n",
       "      <td>149.99</td>\n",
       "      <td>New York City</td>\n",
       "      <td>19</td>\n",
       "      <td>Evening</td>\n",
       "    </tr>\n",
       "    <tr>\n",
       "      <th>185947</th>\n",
       "      <td>13619</td>\n",
       "      <td>222907</td>\n",
       "      <td>Charging Cables</td>\n",
       "      <td>USB-C Charging Cable</td>\n",
       "      <td>1</td>\n",
       "      <td>11.95</td>\n",
       "      <td>22-06-2019 18:57</td>\n",
       "      <td>319 Ridge St, San Francisco, CA 94016</td>\n",
       "      <td>6</td>\n",
       "      <td>11.95</td>\n",
       "      <td>San Francisco</td>\n",
       "      <td>18</td>\n",
       "      <td>Evening</td>\n",
       "    </tr>\n",
       "    <tr>\n",
       "      <th>185948</th>\n",
       "      <td>13620</td>\n",
       "      <td>222908</td>\n",
       "      <td>Charging Cables</td>\n",
       "      <td>USB-C Charging Cable</td>\n",
       "      <td>1</td>\n",
       "      <td>11.95</td>\n",
       "      <td>26-06-2019 18:35</td>\n",
       "      <td>916 Main St, San Francisco, CA 94016</td>\n",
       "      <td>6</td>\n",
       "      <td>11.95</td>\n",
       "      <td>San Francisco</td>\n",
       "      <td>18</td>\n",
       "      <td>Evening</td>\n",
       "    </tr>\n",
       "    <tr>\n",
       "      <th>185949</th>\n",
       "      <td>13621</td>\n",
       "      <td>222909</td>\n",
       "      <td>Batterie</td>\n",
       "      <td>AAA Batteries (4-pack)</td>\n",
       "      <td>1</td>\n",
       "      <td>2.99</td>\n",
       "      <td>25-06-2019 14:33</td>\n",
       "      <td>209 11th St, Atlanta, GA 30301</td>\n",
       "      <td>6</td>\n",
       "      <td>2.99</td>\n",
       "      <td>Atlanta</td>\n",
       "      <td>14</td>\n",
       "      <td>Afternoon</td>\n",
       "    </tr>\n",
       "  </tbody>\n",
       "</table>\n",
       "</div>"
      ],
      "text/plain": [
       "        Column1  Order ID Product Category                 Product  \\\n",
       "185945    13617    222905         Batterie  AAA Batteries (4-pack)   \n",
       "185946    13618    222906         Monitors        27in FHD Monitor   \n",
       "185947    13619    222907  Charging Cables    USB-C Charging Cable   \n",
       "185948    13620    222908  Charging Cables    USB-C Charging Cable   \n",
       "185949    13621    222909         Batterie  AAA Batteries (4-pack)   \n",
       "\n",
       "        Quantity Ordered  Price Each        Order Date  \\\n",
       "185945                 1        2.99  07-06-2019 19:02   \n",
       "185946                 1      149.99  01-06-2019 19:29   \n",
       "185947                 1       11.95  22-06-2019 18:57   \n",
       "185948                 1       11.95  26-06-2019 18:35   \n",
       "185949                 1        2.99  25-06-2019 14:33   \n",
       "\n",
       "                             Purchase Address  Month   Sales            City  \\\n",
       "185945          795 Pine St, Boston, MA 02215      6    2.99          Boston   \n",
       "185946  495 North St, New York City, NY 10001      6  149.99   New York City   \n",
       "185947  319 Ridge St, San Francisco, CA 94016      6   11.95   San Francisco   \n",
       "185948   916 Main St, San Francisco, CA 94016      6   11.95   San Francisco   \n",
       "185949         209 11th St, Atlanta, GA 30301      6    2.99         Atlanta   \n",
       "\n",
       "        Hour Time of Day  \n",
       "185945    19     Evening  \n",
       "185946    19     Evening  \n",
       "185947    18     Evening  \n",
       "185948    18     Evening  \n",
       "185949    14   Afternoon  "
      ]
     },
     "execution_count": 4,
     "metadata": {},
     "output_type": "execute_result"
    }
   ],
   "source": [
    "a.tail()"
   ]
  },
  {
   "cell_type": "code",
   "execution_count": 6,
   "id": "b7b695ff-79ed-4d21-b15e-1eed7c377b2f",
   "metadata": {},
   "outputs": [
    {
     "data": {
      "text/plain": [
       "(185950, 13)"
      ]
     },
     "execution_count": 6,
     "metadata": {},
     "output_type": "execute_result"
    }
   ],
   "source": [
    "a.shape"
   ]
  },
  {
   "cell_type": "code",
   "execution_count": 7,
   "id": "d3f7ceeb-2867-4d49-9b37-2f7df96045cb",
   "metadata": {},
   "outputs": [
    {
     "data": {
      "text/plain": [
       "2417350"
      ]
     },
     "execution_count": 7,
     "metadata": {},
     "output_type": "execute_result"
    }
   ],
   "source": [
    "a.size"
   ]
  },
  {
   "cell_type": "code",
   "execution_count": 8,
   "id": "3acca623-f58b-49dc-904f-d7543b742701",
   "metadata": {},
   "outputs": [
    {
     "data": {
      "text/plain": [
       "<bound method IndexOpsMixin.tolist of Index(['Column1', 'Order ID', 'Product Category', 'Product',\n",
       "       'Quantity Ordered', 'Price Each', 'Order Date', 'Purchase Address',\n",
       "       'Month', 'Sales', 'City', 'Hour', 'Time of Day'],\n",
       "      dtype='object')>"
      ]
     },
     "execution_count": 8,
     "metadata": {},
     "output_type": "execute_result"
    }
   ],
   "source": [
    "a.columns.tolist"
   ]
  },
  {
   "cell_type": "code",
   "execution_count": 10,
   "id": "ab2bb125-3e4e-4507-8e27-94078af8f6ac",
   "metadata": {},
   "outputs": [
    {
     "data": {
      "text/html": [
       "<div>\n",
       "<style scoped>\n",
       "    .dataframe tbody tr th:only-of-type {\n",
       "        vertical-align: middle;\n",
       "    }\n",
       "\n",
       "    .dataframe tbody tr th {\n",
       "        vertical-align: top;\n",
       "    }\n",
       "\n",
       "    .dataframe thead th {\n",
       "        text-align: right;\n",
       "    }\n",
       "</style>\n",
       "<table border=\"1\" class=\"dataframe\">\n",
       "  <thead>\n",
       "    <tr style=\"text-align: right;\">\n",
       "      <th></th>\n",
       "      <th>Column1</th>\n",
       "      <th>Order ID</th>\n",
       "      <th>Quantity Ordered</th>\n",
       "      <th>Price Each</th>\n",
       "      <th>Month</th>\n",
       "      <th>Sales</th>\n",
       "      <th>Hour</th>\n",
       "    </tr>\n",
       "  </thead>\n",
       "  <tbody>\n",
       "    <tr>\n",
       "      <th>count</th>\n",
       "      <td>185950.000000</td>\n",
       "      <td>185950.000000</td>\n",
       "      <td>185950.000000</td>\n",
       "      <td>185950.000000</td>\n",
       "      <td>185950.000000</td>\n",
       "      <td>185950.000000</td>\n",
       "      <td>185950.000000</td>\n",
       "    </tr>\n",
       "    <tr>\n",
       "      <th>mean</th>\n",
       "      <td>8340.388475</td>\n",
       "      <td>230417.569379</td>\n",
       "      <td>1.124383</td>\n",
       "      <td>184.399735</td>\n",
       "      <td>7.059140</td>\n",
       "      <td>185.490917</td>\n",
       "      <td>14.413305</td>\n",
       "    </tr>\n",
       "    <tr>\n",
       "      <th>std</th>\n",
       "      <td>5450.554093</td>\n",
       "      <td>51512.737110</td>\n",
       "      <td>0.442793</td>\n",
       "      <td>332.731330</td>\n",
       "      <td>3.502996</td>\n",
       "      <td>332.919771</td>\n",
       "      <td>5.423416</td>\n",
       "    </tr>\n",
       "    <tr>\n",
       "      <th>min</th>\n",
       "      <td>0.000000</td>\n",
       "      <td>141234.000000</td>\n",
       "      <td>1.000000</td>\n",
       "      <td>2.990000</td>\n",
       "      <td>1.000000</td>\n",
       "      <td>2.990000</td>\n",
       "      <td>0.000000</td>\n",
       "    </tr>\n",
       "    <tr>\n",
       "      <th>25%</th>\n",
       "      <td>3894.000000</td>\n",
       "      <td>185831.250000</td>\n",
       "      <td>1.000000</td>\n",
       "      <td>11.950000</td>\n",
       "      <td>4.000000</td>\n",
       "      <td>11.950000</td>\n",
       "      <td>11.000000</td>\n",
       "    </tr>\n",
       "    <tr>\n",
       "      <th>50%</th>\n",
       "      <td>7786.000000</td>\n",
       "      <td>230367.500000</td>\n",
       "      <td>1.000000</td>\n",
       "      <td>14.950000</td>\n",
       "      <td>7.000000</td>\n",
       "      <td>14.950000</td>\n",
       "      <td>15.000000</td>\n",
       "    </tr>\n",
       "    <tr>\n",
       "      <th>75%</th>\n",
       "      <td>11872.000000</td>\n",
       "      <td>275035.750000</td>\n",
       "      <td>1.000000</td>\n",
       "      <td>150.000000</td>\n",
       "      <td>10.000000</td>\n",
       "      <td>150.000000</td>\n",
       "      <td>19.000000</td>\n",
       "    </tr>\n",
       "    <tr>\n",
       "      <th>max</th>\n",
       "      <td>25116.000000</td>\n",
       "      <td>319670.000000</td>\n",
       "      <td>9.000000</td>\n",
       "      <td>1700.000000</td>\n",
       "      <td>12.000000</td>\n",
       "      <td>3400.000000</td>\n",
       "      <td>23.000000</td>\n",
       "    </tr>\n",
       "  </tbody>\n",
       "</table>\n",
       "</div>"
      ],
      "text/plain": [
       "             Column1       Order ID  Quantity Ordered     Price Each  \\\n",
       "count  185950.000000  185950.000000     185950.000000  185950.000000   \n",
       "mean     8340.388475  230417.569379          1.124383     184.399735   \n",
       "std      5450.554093   51512.737110          0.442793     332.731330   \n",
       "min         0.000000  141234.000000          1.000000       2.990000   \n",
       "25%      3894.000000  185831.250000          1.000000      11.950000   \n",
       "50%      7786.000000  230367.500000          1.000000      14.950000   \n",
       "75%     11872.000000  275035.750000          1.000000     150.000000   \n",
       "max     25116.000000  319670.000000          9.000000    1700.000000   \n",
       "\n",
       "               Month          Sales           Hour  \n",
       "count  185950.000000  185950.000000  185950.000000  \n",
       "mean        7.059140     185.490917      14.413305  \n",
       "std         3.502996     332.919771       5.423416  \n",
       "min         1.000000       2.990000       0.000000  \n",
       "25%         4.000000      11.950000      11.000000  \n",
       "50%         7.000000      14.950000      15.000000  \n",
       "75%        10.000000     150.000000      19.000000  \n",
       "max        12.000000    3400.000000      23.000000  "
      ]
     },
     "execution_count": 10,
     "metadata": {},
     "output_type": "execute_result"
    }
   ],
   "source": [
    "a.describe()"
   ]
  },
  {
   "cell_type": "code",
   "execution_count": 18,
   "id": "7fcd09de-e6c7-4d81-8279-b3e6911195eb",
   "metadata": {},
   "outputs": [
    {
     "name": "stdout",
     "output_type": "stream",
     "text": [
      "Month    1312647\n",
      "dtype: int64\n"
     ]
    }
   ],
   "source": [
    "total_sales = a[['Month']].sum()\n",
    "print(total_sales)"
   ]
  },
  {
   "cell_type": "code",
   "execution_count": 20,
   "id": "096caca3-1b7b-4b38-94ed-eb2acb87cba3",
   "metadata": {},
   "outputs": [
    {
     "name": "stdout",
     "output_type": "stream",
     "text": [
      "Month    7.05914\n",
      "dtype: float64\n"
     ]
    }
   ],
   "source": [
    "average_sales = a[['Month']].mean()\n",
    "print(average_sales)\n"
   ]
  },
  {
   "cell_type": "code",
   "execution_count": 1,
   "id": "0a5a24b6-1235-44b9-ac9b-7cffc7712b52",
   "metadata": {},
   "outputs": [],
   "source": [
    "import pandas as pd\n",
    "a=pd.read_csv(\"Sales Data Analysis.csv\")"
   ]
  },
  {
   "cell_type": "code",
   "execution_count": 2,
   "id": "faaa6a34-8fd6-488c-b1cc-48a55015354a",
   "metadata": {},
   "outputs": [
    {
     "data": {
      "text/html": [
       "<div>\n",
       "<style scoped>\n",
       "    .dataframe tbody tr th:only-of-type {\n",
       "        vertical-align: middle;\n",
       "    }\n",
       "\n",
       "    .dataframe tbody tr th {\n",
       "        vertical-align: top;\n",
       "    }\n",
       "\n",
       "    .dataframe thead th {\n",
       "        text-align: right;\n",
       "    }\n",
       "</style>\n",
       "<table border=\"1\" class=\"dataframe\">\n",
       "  <thead>\n",
       "    <tr style=\"text-align: right;\">\n",
       "      <th></th>\n",
       "      <th>City</th>\n",
       "      <th>Month</th>\n",
       "      <th>Sales</th>\n",
       "    </tr>\n",
       "  </thead>\n",
       "  <tbody>\n",
       "    <tr>\n",
       "      <th>0</th>\n",
       "      <td>Atlanta</td>\n",
       "      <td>1</td>\n",
       "      <td>149159.54</td>\n",
       "    </tr>\n",
       "    <tr>\n",
       "      <th>1</th>\n",
       "      <td>Atlanta</td>\n",
       "      <td>2</td>\n",
       "      <td>176470.30</td>\n",
       "    </tr>\n",
       "    <tr>\n",
       "      <th>2</th>\n",
       "      <td>Atlanta</td>\n",
       "      <td>3</td>\n",
       "      <td>231905.38</td>\n",
       "    </tr>\n",
       "    <tr>\n",
       "      <th>3</th>\n",
       "      <td>Atlanta</td>\n",
       "      <td>4</td>\n",
       "      <td>284448.91</td>\n",
       "    </tr>\n",
       "    <tr>\n",
       "      <th>4</th>\n",
       "      <td>Atlanta</td>\n",
       "      <td>5</td>\n",
       "      <td>238853.99</td>\n",
       "    </tr>\n",
       "    <tr>\n",
       "      <th>...</th>\n",
       "      <td>...</td>\n",
       "      <td>...</td>\n",
       "      <td>...</td>\n",
       "    </tr>\n",
       "    <tr>\n",
       "      <th>103</th>\n",
       "      <td>Seattle</td>\n",
       "      <td>8</td>\n",
       "      <td>189715.09</td>\n",
       "    </tr>\n",
       "    <tr>\n",
       "      <th>104</th>\n",
       "      <td>Seattle</td>\n",
       "      <td>9</td>\n",
       "      <td>156369.27</td>\n",
       "    </tr>\n",
       "    <tr>\n",
       "      <th>105</th>\n",
       "      <td>Seattle</td>\n",
       "      <td>10</td>\n",
       "      <td>316856.26</td>\n",
       "    </tr>\n",
       "    <tr>\n",
       "      <th>106</th>\n",
       "      <td>Seattle</td>\n",
       "      <td>11</td>\n",
       "      <td>252080.13</td>\n",
       "    </tr>\n",
       "    <tr>\n",
       "      <th>107</th>\n",
       "      <td>Seattle</td>\n",
       "      <td>12</td>\n",
       "      <td>387317.93</td>\n",
       "    </tr>\n",
       "  </tbody>\n",
       "</table>\n",
       "<p>108 rows × 3 columns</p>\n",
       "</div>"
      ],
      "text/plain": [
       "         City  Month      Sales\n",
       "0     Atlanta      1  149159.54\n",
       "1     Atlanta      2  176470.30\n",
       "2     Atlanta      3  231905.38\n",
       "3     Atlanta      4  284448.91\n",
       "4     Atlanta      5  238853.99\n",
       "..        ...    ...        ...\n",
       "103   Seattle      8  189715.09\n",
       "104   Seattle      9  156369.27\n",
       "105   Seattle     10  316856.26\n",
       "106   Seattle     11  252080.13\n",
       "107   Seattle     12  387317.93\n",
       "\n",
       "[108 rows x 3 columns]"
      ]
     },
     "execution_count": 2,
     "metadata": {},
     "output_type": "execute_result"
    }
   ],
   "source": [
    "total_sales = a.groupby(['City', 'Month'])['Sales'].sum().reset_index()\n",
    "total_sales"
   ]
  },
  {
   "cell_type": "code",
   "execution_count": 3,
   "id": "67942a60-9a36-4d09-a61c-e6d8f79c2a4a",
   "metadata": {},
   "outputs": [
    {
     "data": {
      "text/html": [
       "<div>\n",
       "<style scoped>\n",
       "    .dataframe tbody tr th:only-of-type {\n",
       "        vertical-align: middle;\n",
       "    }\n",
       "\n",
       "    .dataframe tbody tr th {\n",
       "        vertical-align: top;\n",
       "    }\n",
       "\n",
       "    .dataframe thead th {\n",
       "        text-align: right;\n",
       "    }\n",
       "</style>\n",
       "<table border=\"1\" class=\"dataframe\">\n",
       "  <thead>\n",
       "    <tr style=\"text-align: right;\">\n",
       "      <th></th>\n",
       "      <th>City</th>\n",
       "      <th>Sales</th>\n",
       "    </tr>\n",
       "  </thead>\n",
       "  <tbody>\n",
       "    <tr>\n",
       "      <th>0</th>\n",
       "      <td>Atlanta</td>\n",
       "      <td>187.856903</td>\n",
       "    </tr>\n",
       "    <tr>\n",
       "      <th>1</th>\n",
       "      <td>Austin</td>\n",
       "      <td>183.703357</td>\n",
       "    </tr>\n",
       "    <tr>\n",
       "      <th>2</th>\n",
       "      <td>Boston</td>\n",
       "      <td>183.688272</td>\n",
       "    </tr>\n",
       "    <tr>\n",
       "      <th>3</th>\n",
       "      <td>Dallas</td>\n",
       "      <td>186.772969</td>\n",
       "    </tr>\n",
       "    <tr>\n",
       "      <th>4</th>\n",
       "      <td>Los Angeles</td>\n",
       "      <td>184.177362</td>\n",
       "    </tr>\n",
       "    <tr>\n",
       "      <th>5</th>\n",
       "      <td>New York City</td>\n",
       "      <td>187.502711</td>\n",
       "    </tr>\n",
       "    <tr>\n",
       "      <th>6</th>\n",
       "      <td>Portland</td>\n",
       "      <td>186.160498</td>\n",
       "    </tr>\n",
       "    <tr>\n",
       "      <th>7</th>\n",
       "      <td>San Francisco</td>\n",
       "      <td>184.704550</td>\n",
       "    </tr>\n",
       "    <tr>\n",
       "      <th>8</th>\n",
       "      <td>Seattle</td>\n",
       "      <td>186.516120</td>\n",
       "    </tr>\n",
       "  </tbody>\n",
       "</table>\n",
       "</div>"
      ],
      "text/plain": [
       "             City       Sales\n",
       "0         Atlanta  187.856903\n",
       "1          Austin  183.703357\n",
       "2          Boston  183.688272\n",
       "3          Dallas  186.772969\n",
       "4     Los Angeles  184.177362\n",
       "5   New York City  187.502711\n",
       "6        Portland  186.160498\n",
       "7   San Francisco  184.704550\n",
       "8         Seattle  186.516120"
      ]
     },
     "execution_count": 3,
     "metadata": {},
     "output_type": "execute_result"
    }
   ],
   "source": [
    "avg_monthly_sales = a.groupby('City')['Sales'].mean().reset_index()\n",
    "avg_monthly_sales"
   ]
  },
  {
   "cell_type": "code",
   "execution_count": 5,
   "id": "48b28498-9c0e-408f-9780-7cc16194abd0",
   "metadata": {},
   "outputs": [
    {
     "name": "stdout",
     "output_type": "stream",
     "text": [
      "Index(['Column1', 'Order ID', 'Product Category', 'Product',\n",
      "       'Quantity Ordered', 'Price Each', 'Order Date', 'Purchase Address',\n",
      "       'Month', 'Sales', 'City', 'Hour', 'Time of Day'],\n",
      "      dtype='object')\n"
     ]
    }
   ],
   "source": [
    "print(a.columns)"
   ]
  },
  {
   "cell_type": "code",
   "execution_count": 8,
   "id": "65ed408f-b3e4-46a6-9008-e74a2f091a21",
   "metadata": {},
   "outputs": [
    {
     "data": {
      "text/html": [
       "<div>\n",
       "<style scoped>\n",
       "    .dataframe tbody tr th:only-of-type {\n",
       "        vertical-align: middle;\n",
       "    }\n",
       "\n",
       "    .dataframe tbody tr th {\n",
       "        vertical-align: top;\n",
       "    }\n",
       "\n",
       "    .dataframe thead th {\n",
       "        text-align: right;\n",
       "    }\n",
       "</style>\n",
       "<table border=\"1\" class=\"dataframe\">\n",
       "  <thead>\n",
       "    <tr style=\"text-align: right;\">\n",
       "      <th></th>\n",
       "      <th>City</th>\n",
       "      <th>Sales</th>\n",
       "    </tr>\n",
       "  </thead>\n",
       "  <tbody>\n",
       "    <tr>\n",
       "      <th>0</th>\n",
       "      <td>Atlanta</td>\n",
       "      <td>187.856903</td>\n",
       "    </tr>\n",
       "    <tr>\n",
       "      <th>1</th>\n",
       "      <td>Austin</td>\n",
       "      <td>183.703357</td>\n",
       "    </tr>\n",
       "    <tr>\n",
       "      <th>2</th>\n",
       "      <td>Boston</td>\n",
       "      <td>183.688272</td>\n",
       "    </tr>\n",
       "    <tr>\n",
       "      <th>3</th>\n",
       "      <td>Dallas</td>\n",
       "      <td>186.772969</td>\n",
       "    </tr>\n",
       "    <tr>\n",
       "      <th>4</th>\n",
       "      <td>Los Angeles</td>\n",
       "      <td>184.177362</td>\n",
       "    </tr>\n",
       "    <tr>\n",
       "      <th>5</th>\n",
       "      <td>New York City</td>\n",
       "      <td>187.502711</td>\n",
       "    </tr>\n",
       "    <tr>\n",
       "      <th>6</th>\n",
       "      <td>Portland</td>\n",
       "      <td>186.160498</td>\n",
       "    </tr>\n",
       "    <tr>\n",
       "      <th>7</th>\n",
       "      <td>San Francisco</td>\n",
       "      <td>184.704550</td>\n",
       "    </tr>\n",
       "    <tr>\n",
       "      <th>8</th>\n",
       "      <td>Seattle</td>\n",
       "      <td>186.516120</td>\n",
       "    </tr>\n",
       "  </tbody>\n",
       "</table>\n",
       "</div>"
      ],
      "text/plain": [
       "             City       Sales\n",
       "0         Atlanta  187.856903\n",
       "1          Austin  183.703357\n",
       "2          Boston  183.688272\n",
       "3          Dallas  186.772969\n",
       "4     Los Angeles  184.177362\n",
       "5   New York City  187.502711\n",
       "6        Portland  186.160498\n",
       "7   San Francisco  184.704550\n",
       "8         Seattle  186.516120"
      ]
     },
     "execution_count": 8,
     "metadata": {},
     "output_type": "execute_result"
    }
   ],
   "source": [
    "avg_sales_city = a.groupby('City')['Sales'].mean().reset_index()\n",
    "avg_sales_city"
   ]
  },
  {
   "cell_type": "code",
   "execution_count": 9,
   "id": "17fd0e6a-15a0-4e48-afe7-b09aeeed8e1e",
   "metadata": {},
   "outputs": [
    {
     "data": {
      "text/plain": [
       "' Atlanta'"
      ]
     },
     "execution_count": 9,
     "metadata": {},
     "output_type": "execute_result"
    }
   ],
   "source": [
    "highest_avg_city = avg_sales_city.loc[avg_sales_city['Sales'].idxmax(), 'City']\n",
    "highest_avg_city"
   ]
  },
  {
   "cell_type": "code",
   "execution_count": 11,
   "id": "3ff2ac73-fc3d-446d-bfb8-fdbd8c404e43",
   "metadata": {},
   "outputs": [
    {
     "data": {
      "text/plain": [
       "' Austin'"
      ]
     },
     "execution_count": 11,
     "metadata": {},
     "output_type": "execute_result"
    }
   ],
   "source": [
    "lowest_total_city = total_sales.loc[total_sales['Sales'].idxmin(), 'City']\n",
    "lowest_total_city"
   ]
  },
  {
   "cell_type": "code",
   "execution_count": 12,
   "id": "340f16e8-6dff-4114-8e22-a53c21a68d5f",
   "metadata": {},
   "outputs": [
    {
     "data": {
      "text/html": [
       "<div>\n",
       "<style scoped>\n",
       "    .dataframe tbody tr th:only-of-type {\n",
       "        vertical-align: middle;\n",
       "    }\n",
       "\n",
       "    .dataframe tbody tr th {\n",
       "        vertical-align: top;\n",
       "    }\n",
       "\n",
       "    .dataframe thead th {\n",
       "        text-align: right;\n",
       "    }\n",
       "</style>\n",
       "<table border=\"1\" class=\"dataframe\">\n",
       "  <thead>\n",
       "    <tr style=\"text-align: right;\">\n",
       "      <th></th>\n",
       "      <th>City</th>\n",
       "      <th>Sales</th>\n",
       "    </tr>\n",
       "  </thead>\n",
       "  <tbody>\n",
       "    <tr>\n",
       "      <th>0</th>\n",
       "      <td>Atlanta</td>\n",
       "      <td>2795498.58</td>\n",
       "    </tr>\n",
       "    <tr>\n",
       "      <th>1</th>\n",
       "      <td>Austin</td>\n",
       "      <td>1819581.75</td>\n",
       "    </tr>\n",
       "    <tr>\n",
       "      <th>2</th>\n",
       "      <td>Boston</td>\n",
       "      <td>3661642.01</td>\n",
       "    </tr>\n",
       "    <tr>\n",
       "      <th>3</th>\n",
       "      <td>Dallas</td>\n",
       "      <td>2767975.40</td>\n",
       "    </tr>\n",
       "    <tr>\n",
       "      <th>4</th>\n",
       "      <td>Los Angeles</td>\n",
       "      <td>5452570.80</td>\n",
       "    </tr>\n",
       "    <tr>\n",
       "      <th>5</th>\n",
       "      <td>New York City</td>\n",
       "      <td>4664317.43</td>\n",
       "    </tr>\n",
       "    <tr>\n",
       "      <th>6</th>\n",
       "      <td>Portland</td>\n",
       "      <td>2320490.61</td>\n",
       "    </tr>\n",
       "    <tr>\n",
       "      <th>7</th>\n",
       "      <td>San Francisco</td>\n",
       "      <td>8262203.91</td>\n",
       "    </tr>\n",
       "    <tr>\n",
       "      <th>8</th>\n",
       "      <td>Seattle</td>\n",
       "      <td>2747755.48</td>\n",
       "    </tr>\n",
       "  </tbody>\n",
       "</table>\n",
       "</div>"
      ],
      "text/plain": [
       "             City       Sales\n",
       "0         Atlanta  2795498.58\n",
       "1          Austin  1819581.75\n",
       "2          Boston  3661642.01\n",
       "3          Dallas  2767975.40\n",
       "4     Los Angeles  5452570.80\n",
       "5   New York City  4664317.43\n",
       "6        Portland  2320490.61\n",
       "7   San Francisco  8262203.91\n",
       "8         Seattle  2747755.48"
      ]
     },
     "execution_count": 12,
     "metadata": {},
     "output_type": "execute_result"
    }
   ],
   "source": [
    "total_sales = a.groupby('City')['Sales'].sum().reset_index()\n",
    "total_sales"
   ]
  },
  {
   "cell_type": "code",
   "execution_count": 14,
   "id": "3d053474-a961-4606-9867-dbc3af683a6f",
   "metadata": {},
   "outputs": [
    {
     "data": {
      "text/html": [
       "<div>\n",
       "<style scoped>\n",
       "    .dataframe tbody tr th:only-of-type {\n",
       "        vertical-align: middle;\n",
       "    }\n",
       "\n",
       "    .dataframe tbody tr th {\n",
       "        vertical-align: top;\n",
       "    }\n",
       "\n",
       "    .dataframe thead th {\n",
       "        text-align: right;\n",
       "    }\n",
       "</style>\n",
       "<table border=\"1\" class=\"dataframe\">\n",
       "  <thead>\n",
       "    <tr style=\"text-align: right;\">\n",
       "      <th></th>\n",
       "      <th>City</th>\n",
       "      <th>Sales</th>\n",
       "    </tr>\n",
       "  </thead>\n",
       "  <tbody>\n",
       "    <tr>\n",
       "      <th>7</th>\n",
       "      <td>San Francisco</td>\n",
       "      <td>8262203.91</td>\n",
       "    </tr>\n",
       "    <tr>\n",
       "      <th>4</th>\n",
       "      <td>Los Angeles</td>\n",
       "      <td>5452570.80</td>\n",
       "    </tr>\n",
       "    <tr>\n",
       "      <th>5</th>\n",
       "      <td>New York City</td>\n",
       "      <td>4664317.43</td>\n",
       "    </tr>\n",
       "  </tbody>\n",
       "</table>\n",
       "</div>"
      ],
      "text/plain": [
       "             City       Sales\n",
       "7   San Francisco  8262203.91\n",
       "4     Los Angeles  5452570.80\n",
       "5   New York City  4664317.43"
      ]
     },
     "execution_count": 14,
     "metadata": {},
     "output_type": "execute_result"
    }
   ],
   "source": [
    "top3_cities = total_sales.sort_values(by='Sales', ascending=False).head(3)\n",
    "top3_cities"
   ]
  },
  {
   "cell_type": "code",
   "execution_count": 25,
   "id": "53cfc8d4-b4d9-420f-a6a7-6e12ae0aefb1",
   "metadata": {},
   "outputs": [
    {
     "data": {
      "text/html": [
       "<div>\n",
       "<style scoped>\n",
       "    .dataframe tbody tr th:only-of-type {\n",
       "        vertical-align: middle;\n",
       "    }\n",
       "\n",
       "    .dataframe tbody tr th {\n",
       "        vertical-align: top;\n",
       "    }\n",
       "\n",
       "    .dataframe thead th {\n",
       "        text-align: right;\n",
       "    }\n",
       "</style>\n",
       "<table border=\"1\" class=\"dataframe\">\n",
       "  <thead>\n",
       "    <tr style=\"text-align: right;\">\n",
       "      <th></th>\n",
       "      <th>City</th>\n",
       "      <th>Sales</th>\n",
       "    </tr>\n",
       "  </thead>\n",
       "  <tbody>\n",
       "    <tr>\n",
       "      <th>8</th>\n",
       "      <td>Seattle</td>\n",
       "      <td>2747755.48</td>\n",
       "    </tr>\n",
       "    <tr>\n",
       "      <th>7</th>\n",
       "      <td>San Francisco</td>\n",
       "      <td>8262203.91</td>\n",
       "    </tr>\n",
       "    <tr>\n",
       "      <th>6</th>\n",
       "      <td>Portland</td>\n",
       "      <td>2320490.61</td>\n",
       "    </tr>\n",
       "    <tr>\n",
       "      <th>5</th>\n",
       "      <td>New York City</td>\n",
       "      <td>4664317.43</td>\n",
       "    </tr>\n",
       "    <tr>\n",
       "      <th>4</th>\n",
       "      <td>Los Angeles</td>\n",
       "      <td>5452570.80</td>\n",
       "    </tr>\n",
       "  </tbody>\n",
       "</table>\n",
       "</div>"
      ],
      "text/plain": [
       "             City       Sales\n",
       "8         Seattle  2747755.48\n",
       "7   San Francisco  8262203.91\n",
       "6        Portland  2320490.61\n",
       "5   New York City  4664317.43\n",
       "4     Los Angeles  5452570.80"
      ]
     },
     "execution_count": 25,
     "metadata": {},
     "output_type": "execute_result"
    }
   ],
   "source": [
    "top5_stores = total_sales.sort_values(by='City', ascending=False).head(5)\n",
    "top5_stores"
   ]
  },
  {
   "cell_type": "code",
   "execution_count": 18,
   "id": "32e18db3-53b5-41f6-aac0-551e19c68187",
   "metadata": {},
   "outputs": [
    {
     "name": "stdout",
     "output_type": "stream",
     "text": [
      "Index(['Column1', 'Order ID', 'Product Category', 'Product',\n",
      "       'Quantity Ordered', 'Price Each', 'Order Date', 'Purchase Address',\n",
      "       'Month', 'Sales', 'City', 'Hour', 'Time of Day'],\n",
      "      dtype='object')\n"
     ]
    }
   ],
   "source": [
    "print(a.columns)"
   ]
  },
  {
   "cell_type": "code",
   "execution_count": 20,
   "id": "63673498-ce37-4c09-bf74-b5f05cde7f6e",
   "metadata": {},
   "outputs": [
    {
     "name": "stdout",
     "output_type": "stream",
     "text": [
      "Store with maximum sales in March:  San Francisco\n"
     ]
    }
   ],
   "source": [
    "# Filter March sales\n",
    "march_sales = a[a['Month'] == 3]  # assuming Month is numeric; if not, use 'Mar'\n",
    "\n",
    "# Sum sales per store (city)\n",
    "march_total = march_sales.groupby('City')['Sales'].sum().reset_index()\n",
    "\n",
    "# Store with max sales\n",
    "max_march_store = march_total.loc[march_total['Sales'].idxmax(), 'City']\n",
    "print(\"Store with maximum sales in March:\", max_march_store)\n"
   ]
  },
  {
   "cell_type": "code",
   "execution_count": 21,
   "id": "3eccaae1-bb0c-4cbb-9906-d8723cb5728a",
   "metadata": {},
   "outputs": [
    {
     "name": "stdout",
     "output_type": "stream",
     "text": [
      "Store with minimum sales in April:  Austin\n"
     ]
    }
   ],
   "source": [
    "# Filter April sales\n",
    "april_sales = a[a['Month'] == 4]\n",
    "\n",
    "# Sum sales per store (city)\n",
    "april_total = april_sales.groupby('City')['Sales'].sum().reset_index()\n",
    "\n",
    "# Store with min sales\n",
    "min_april_store = april_total.loc[april_total['Sales'].idxmin(), 'City']\n",
    "print(\"Store with minimum sales in April:\", min_april_store)\n"
   ]
  },
  {
   "cell_type": "code",
   "execution_count": 22,
   "id": "958b9dc4-9094-4156-8a39-0f85250c5499",
   "metadata": {},
   "outputs": [
    {
     "name": "stdout",
     "output_type": "stream",
     "text": [
      "Cities with average monthly sales > 15:\n",
      "             City       Sales\n",
      "0         Atlanta  187.856903\n",
      "1          Austin  183.703357\n",
      "2          Boston  183.688272\n",
      "3          Dallas  186.772969\n",
      "4     Los Angeles  184.177362\n",
      "5   New York City  187.502711\n",
      "6        Portland  186.160498\n",
      "7   San Francisco  184.704550\n",
      "8         Seattle  186.516120\n"
     ]
    }
   ],
   "source": [
    "# Average monthly sales per city\n",
    "avg_monthly_sales = a.groupby('City')['Sales'].mean().reset_index()\n",
    "\n",
    "# Filter cities with average sales > 15\n",
    "high_avg_cities = avg_monthly_sales[avg_monthly_sales['Sales'] > 15]\n",
    "\n",
    "print(\"Cities with average monthly sales > 15:\")\n",
    "print(high_avg_cities)\n"
   ]
  },
  {
   "cell_type": "code",
   "execution_count": 23,
   "id": "f2cb1d38-a97e-49e3-a0df-c889e10e5d98",
   "metadata": {},
   "outputs": [
    {
     "name": "stdout",
     "output_type": "stream",
     "text": [
      "Empty DataFrame\n",
      "Columns: [City, Purchase Address, Month, Sales]\n",
      "Index: []\n"
     ]
    }
   ],
   "source": [
    "# Filter California stores\n",
    "california_stores = a[a['Purchase Address'].str.contains('California', case=False)]\n",
    "\n",
    "# Further filter sales > 20\n",
    "high_sales_ca = california_stores[california_stores['Sales'] > 20]\n",
    "\n",
    "# Show relevant columns\n",
    "print(high_sales_ca[['City','Purchase Address','Month','Sales']])\n"
   ]
  },
  {
   "cell_type": "code",
   "execution_count": 26,
   "id": "d4ab86f1-b85e-4fa6-8fb0-c971f0500e4a",
   "metadata": {},
   "outputs": [
    {
     "name": "stdout",
     "output_type": "stream",
     "text": [
      "         City  Month        mean     max   min\n",
      "0     Atlanta      1  190.012153  1700.0  2.99\n",
      "1     Atlanta      2  188.536645  1700.0  2.99\n",
      "2     Atlanta      3  186.269382  1700.0  2.99\n",
      "3     Atlanta      4  193.239749  1700.0  2.99\n",
      "4     Atlanta      5  179.724597  1700.0  2.99\n",
      "..        ...    ...         ...     ...   ...\n",
      "103   Seattle      8  188.771234  1700.0  2.99\n",
      "104   Seattle      9  166.704979  1700.0  2.99\n",
      "105   Seattle     10  189.055048  1700.0  2.99\n",
      "106   Seattle     11  177.396291  1700.0  2.99\n",
      "107   Seattle     12  195.812907  1700.0  2.99\n",
      "\n",
      "[108 rows x 5 columns]\n"
     ]
    }
   ],
   "source": [
    "# Group by city and month\n",
    "city_month_stats = a.groupby(['City', 'Month'])['Sales'].agg(['mean', 'max', 'min']).reset_index()\n",
    "print(city_month_stats)\n"
   ]
  },
  {
   "cell_type": "code",
   "execution_count": 27,
   "id": "4f583649-abcc-48f3-97d3-8d1b92d6c184",
   "metadata": {},
   "outputs": [
    {
     "name": "stdout",
     "output_type": "stream",
     "text": [
      "City with highest average March sales:  San Francisco\n"
     ]
    }
   ],
   "source": [
    "# Filter March sales\n",
    "march_sales = a[a['Month'] == 3]\n",
    "\n",
    "# Compute average March sales per city\n",
    "avg_march_sales = march_sales.groupby('City')['Sales'].mean().reset_index()\n",
    "\n",
    "# City with highest average\n",
    "highest_avg_march_city = avg_march_sales.loc[avg_march_sales['Sales'].idxmax(), 'City']\n",
    "print(\"City with highest average March sales:\", highest_avg_march_city)\n"
   ]
  },
  {
   "cell_type": "code",
   "execution_count": 28,
   "id": "5288edd0-c0c6-4e63-9af5-b5386e1e4869",
   "metadata": {},
   "outputs": [
    {
     "name": "stdout",
     "output_type": "stream",
     "text": [
      "             City  Overall_Avg_Sales\n",
      "0         Atlanta         187.856903\n",
      "1          Austin         183.703357\n",
      "2          Boston         183.688272\n",
      "3          Dallas         186.772969\n",
      "4     Los Angeles         184.177362\n",
      "5   New York City         187.502711\n",
      "6        Portland         186.160498\n",
      "7   San Francisco         184.704550\n",
      "8         Seattle         186.516120\n"
     ]
    }
   ],
   "source": [
    "avg_sales_per_city = a.groupby('City')['Sales'].mean().reset_index()\n",
    "avg_sales_per_city.rename(columns={'Sales':'Overall_Avg_Sales'}, inplace=True)\n",
    "print(avg_sales_per_city)\n"
   ]
  },
  {
   "cell_type": "code",
   "execution_count": 29,
   "id": "283c98ee-a6e6-4bbb-8b8f-7bfedd40d110",
   "metadata": {},
   "outputs": [
    {
     "name": "stdout",
     "output_type": "stream",
     "text": [
      "Month with highest overall sales: 12\n"
     ]
    }
   ],
   "source": [
    "# Total sales per month across all cities\n",
    "total_sales_per_month = a.groupby('Month')['Sales'].sum().reset_index()\n",
    "\n",
    "# Month with maximum sales\n",
    "highest_sales_month = total_sales_per_month.loc[total_sales_per_month['Sales'].idxmax(), 'Month']\n",
    "print(\"Month with highest overall sales:\", highest_sales_month)\n"
   ]
  },
  {
   "cell_type": "code",
   "execution_count": 30,
   "id": "bf39098e-064c-4069-8048-c844d3099c07",
   "metadata": {},
   "outputs": [
    {
     "name": "stdout",
     "output_type": "stream",
     "text": [
      "             City  Month       Sales\n",
      "0         Atlanta     12   360899.26\n",
      "1          Austin     12   233777.09\n",
      "2          Boston     12   509599.16\n",
      "3          Dallas     12   380718.85\n",
      "4     Los Angeles     12   684044.84\n",
      "5   New York City     12   646770.83\n",
      "6        Portland     12   303714.11\n",
      "7   San Francisco     12  1106601.27\n",
      "8         Seattle     12   387317.93\n"
     ]
    }
   ],
   "source": [
    "# Total sales per city per month\n",
    "city_month_total = a.groupby(['City','Month'])['Sales'].sum().reset_index()\n",
    "\n",
    "# Month with max total sales per city\n",
    "idx = city_month_total.groupby('City')['Sales'].idxmax()\n",
    "max_sales_month_per_city = city_month_total.loc[idx].reset_index(drop=True)\n",
    "print(max_sales_month_per_city)\n"
   ]
  },
  {
   "cell_type": "code",
   "execution_count": 33,
   "id": "cfcc3179-32bb-4c4d-8dd2-bd1312cdab42",
   "metadata": {},
   "outputs": [
    {
     "data": {
      "text/html": [
       "<div>\n",
       "<style scoped>\n",
       "    .dataframe tbody tr th:only-of-type {\n",
       "        vertical-align: middle;\n",
       "    }\n",
       "\n",
       "    .dataframe tbody tr th {\n",
       "        vertical-align: top;\n",
       "    }\n",
       "\n",
       "    .dataframe thead th {\n",
       "        text-align: right;\n",
       "    }\n",
       "</style>\n",
       "<table border=\"1\" class=\"dataframe\">\n",
       "  <thead>\n",
       "    <tr style=\"text-align: right;\">\n",
       "      <th></th>\n",
       "      <th>City</th>\n",
       "      <th>Average_Sales</th>\n",
       "    </tr>\n",
       "  </thead>\n",
       "  <tbody>\n",
       "    <tr>\n",
       "      <th>0</th>\n",
       "      <td>Atlanta</td>\n",
       "      <td>187.856903</td>\n",
       "    </tr>\n",
       "    <tr>\n",
       "      <th>1</th>\n",
       "      <td>Austin</td>\n",
       "      <td>183.703357</td>\n",
       "    </tr>\n",
       "    <tr>\n",
       "      <th>2</th>\n",
       "      <td>Boston</td>\n",
       "      <td>183.688272</td>\n",
       "    </tr>\n",
       "    <tr>\n",
       "      <th>3</th>\n",
       "      <td>Dallas</td>\n",
       "      <td>186.772969</td>\n",
       "    </tr>\n",
       "    <tr>\n",
       "      <th>4</th>\n",
       "      <td>Los Angeles</td>\n",
       "      <td>184.177362</td>\n",
       "    </tr>\n",
       "    <tr>\n",
       "      <th>5</th>\n",
       "      <td>New York City</td>\n",
       "      <td>187.502711</td>\n",
       "    </tr>\n",
       "    <tr>\n",
       "      <th>6</th>\n",
       "      <td>Portland</td>\n",
       "      <td>186.160498</td>\n",
       "    </tr>\n",
       "    <tr>\n",
       "      <th>7</th>\n",
       "      <td>San Francisco</td>\n",
       "      <td>184.704550</td>\n",
       "    </tr>\n",
       "    <tr>\n",
       "      <th>8</th>\n",
       "      <td>Seattle</td>\n",
       "      <td>186.516120</td>\n",
       "    </tr>\n",
       "  </tbody>\n",
       "</table>\n",
       "</div>"
      ],
      "text/plain": [
       "             City  Average_Sales\n",
       "0         Atlanta     187.856903\n",
       "1          Austin     183.703357\n",
       "2          Boston     183.688272\n",
       "3          Dallas     186.772969\n",
       "4     Los Angeles     184.177362\n",
       "5   New York City     187.502711\n",
       "6        Portland     186.160498\n",
       "7   San Francisco     184.704550\n",
       "8         Seattle     186.516120"
      ]
     },
     "execution_count": 33,
     "metadata": {},
     "output_type": "execute_result"
    }
   ],
   "source": [
    "# Average sales per city\n",
    "average_sales = a.groupby('City')['Sales'].mean().reset_index()\n",
    "average_sales.rename(columns={'Sales':'Average_Sales'}, inplace=True)\n",
    "\n",
    "# Merge with city-level data if needed\n",
    "city_data = city_month_total.groupby('City')['Sales'].sum().reset_index()\n",
    "city_data = city_data.merge(average_sales, on='City')\n",
    "average_sales"
   ]
  },
  {
   "cell_type": "code",
   "execution_count": 34,
   "id": "ea11ec73-9b27-490c-8c6d-51fe5ae25707",
   "metadata": {},
   "outputs": [
    {
     "name": "stdout",
     "output_type": "stream",
     "text": [
      "             City       Sales  Average_Sales\n",
      "0         Atlanta  2795498.58     187.856903\n",
      "5   New York City  4664317.43     187.502711\n",
      "3          Dallas  2767975.40     186.772969\n",
      "8         Seattle  2747755.48     186.516120\n",
      "6        Portland  2320490.61     186.160498\n",
      "7   San Francisco  8262203.91     184.704550\n",
      "4     Los Angeles  5452570.80     184.177362\n",
      "1          Austin  1819581.75     183.703357\n",
      "2          Boston  3661642.01     183.688272\n"
     ]
    }
   ],
   "source": [
    "city_data_sorted = city_data.sort_values(by='Average_Sales', ascending=False)\n",
    "print(city_data_sorted)\n"
   ]
  },
  {
   "cell_type": "code",
   "execution_count": 35,
   "id": "b24ccb4c-3cf1-42f1-974e-70f512a1efcd",
   "metadata": {},
   "outputs": [
    {
     "data": {
      "image/png": "[encoded data removed]",
      "text/plain": [
       "<Figure size 1000x600 with 1 Axes>"
      ]
     },
     "metadata": {},
     "output_type": "display_data"
    }
   ],
   "source": [
    "import matplotlib.pyplot as plt\n",
    "import seaborn as sns\n",
    "# Total sales per city\n",
    "total_sales_city = a.groupby('City')['Sales'].sum().sort_values(ascending=False)\n",
    "\n",
    "# Plot bar chart\n",
    "plt.figure(figsize=(10,6))\n",
    "total_sales_city.plot(kind='bar', color='skyblue')\n",
    "plt.title('Total Sales by City')\n",
    "plt.xlabel('City')\n",
    "plt.ylabel('Total Sales')\n",
    "plt.xticks(rotation=45)\n",
    "plt.show()\n"
   ]
  },
  {
   "cell_type": "code",
   "execution_count": 36,
   "id": "a8a13724-f3c2-493e-b86b-5d59a7f94d1f",
   "metadata": {},
   "outputs": [
    {
     "data": {
      "image/png": "[encoded data removed]",
      "text/plain": [
       "<Figure size 800x500 with 1 Axes>"
      ]
     },
     "metadata": {},
     "output_type": "display_data"
    }
   ],
   "source": [
    "# Average sales per month\n",
    "avg_sales_month = a.groupby('Month')['Sales'].mean()\n",
    "\n",
    "plt.figure(figsize=(8,5))\n",
    "avg_sales_month.plot(kind='line', marker='o', color='green')\n",
    "plt.title('Average Monthly Sales Across All Stores')\n",
    "plt.xlabel('Month')\n",
    "plt.ylabel('Average Sales')\n",
    "plt.xticks(avg_sales_month.index)\n",
    "plt.grid(True)\n",
    "plt.show()\n"
   ]
  },
  {
   "cell_type": "code",
   "execution_count": 37,
   "id": "1c960c66-4dc6-4671-9941-82b09e9638ed",
   "metadata": {},
   "outputs": [
    {
     "data": {
      "image/png": "[encoded data removed]",
      "text/plain": [
       "<Figure size 700x700 with 1 Axes>"
      ]
     },
     "metadata": {},
     "output_type": "display_data"
    }
   ],
   "source": [
    "# Total yearly sales per city\n",
    "total_sales_city = a.groupby('City')['Sales'].sum()\n",
    "\n",
    "plt.figure(figsize=(7,7))\n",
    "total_sales_city.plot(kind='pie', autopct='%1.1f%%', startangle=90, colors=plt.cm.Paired.colors)\n",
    "plt.ylabel('')\n",
    "plt.title('Share of Each City in Total Yearly Sales')\n",
    "plt.show()\n"
   ]
  },
  {
   "cell_type": "code",
   "execution_count": 38,
   "id": "0fa881d4-6c73-4ac0-83d2-4c00fbd413a5",
   "metadata": {},
   "outputs": [
    {
     "data": {
      "image/png": "[encoded data removed]",
      "text/plain": [
       "<Figure size 800x600 with 1 Axes>"
      ]
     },
     "metadata": {},
     "output_type": "display_data"
    }
   ],
   "source": [
    "top10_stores = total_sales_city.sort_values(ascending=False).head(10)\n",
    "\n",
    "plt.figure(figsize=(8,6))\n",
    "top10_stores.plot(kind='barh', color='orange')\n",
    "plt.title('Top 10 Stores by Total Sales')\n",
    "plt.xlabel('Total Sales')\n",
    "plt.ylabel('City')\n",
    "plt.gca().invert_yaxis()  # highest at top\n",
    "plt.show()\n"
   ]
  },
  {
   "cell_type": "code",
   "execution_count": 39,
   "id": "6bd1f0af-fc48-40a5-a7ab-3f4c49c1bc61",
   "metadata": {},
   "outputs": [
    {
     "data": {
      "image/png": "[encoded data removed]",
      "text/plain": [
       "<Figure size 1200x600 with 1 Axes>"
      ]
     },
     "metadata": {},
     "output_type": "display_data"
    }
   ],
   "source": [
    "plt.figure(figsize=(12,6))\n",
    "sns.boxplot(x='City', y='Sales', data=a)\n",
    "plt.title('Monthly Sales Distribution by City')\n",
    "plt.xlabel('City')\n",
    "plt.ylabel('Sales')\n",
    "plt.xticks(rotation=45)\n",
    "plt.show()\n"
   ]
  },
  {
   "cell_type": "code",
   "execution_count": null,
   "id": "ad59ffd7-dbe1-4554-9bd6-cb26c59ab01c",
   "metadata": {},
   "outputs": [],
   "source": []
  }
 ],
 "metadata": {
  "kernelspec": {
   "display_name": "Python 3 (ipykernel)",
   "language": "python",
   "name": "python3"
  },
  "language_info": {
   "codemirror_mode": {
    "name": "ipython",
    "version": 3
   },
   "file_extension": ".py",
   "mimetype": "text/x-python",
   "name": "python",
   "nbconvert_exporter": "python",
   "pygments_lexer": "ipython3",
   "version": "3.13.5"
  }
 },
 "nbformat": 4,
 "nbformat_minor": 5
}
